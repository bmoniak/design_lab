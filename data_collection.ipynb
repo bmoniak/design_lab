{
 "cells": [
  {
   "cell_type": "markdown",
   "metadata": {},
   "source": [
    "# Hand Recognition - data collection\n",
    "The goal of this tutorial is to use JetBot to make photos of different hand gestures so we can learn the robot to recognise them in next step. Let's begin with importing some necessary libraries:"
   ]
  },
  {
   "cell_type": "code",
   "execution_count": 1,
   "metadata": {},
   "outputs": [
    {
     "data": {
      "application/vnd.jupyter.widget-view+json": {
       "model_id": "5afa8cb4027e49ebad4691008121516b",
       "version_major": 2,
       "version_minor": 0
      },
      "text/plain": [
       "Image(value=b'\\xff\\xd8\\xff\\xe0\\x00\\x10JFIF\\x00\\x01\\x01\\x00\\x00\\x01\\x00\\x01\\x00\\x00\\xff\\xdb\\x00C\\x00\\x02\\x01\\x0…"
      ]
     },
     "metadata": {},
     "output_type": "display_data"
    }
   ],
   "source": [
    "import traitlets # library enabling some special attributes of Python objects\n",
    "import ipywidgets.widgets as widgets # library to create widgets in JupyterLab, eg. camera, buttons etc.\n",
    "from IPython.display import display # library to display widgets in JupyterLab\n",
    "from jetbot import Camera, bgr8_to_jpeg # library that operates with camera and allows to convert RAW data to .jpg format\n",
    "import os # library for different system functions\n",
    "\n",
    "camera = Camera.instance(width=224, height=224) #initiation of 224x224px camera \n",
    "\n",
    "image = widgets.Image(format='jpeg', width=224, height=224)  # initiation of the widget with camera (size doesn't have to match)\n",
    "\n",
    "camera_link = traitlets.dlink((camera, 'value'), (image, 'value'), transform=bgr8_to_jpeg) # transformation of the data from camera to image\n",
    "\n",
    "display(image) # displaying camera widget"
   ]
  },
  {
   "cell_type": "code",
   "execution_count": 2,
   "metadata": {},
   "outputs": [
    {
     "name": "stdout",
     "output_type": "stream",
     "text": [
      "Directories not created because they already exist\n"
     ]
    }
   ],
   "source": [
    "import os\n",
    "\n",
    "# creation of directories for the pictures of gestures\n",
    "go_dir = 'dataset_hand_recog/go'\n",
    "stop_dir = 'dataset_hand_recog/stop'\n",
    "left_dir = 'dataset_hand_recog/left'\n",
    "right_dir = 'dataset_hand_recog/right'\n",
    "circle_dir = 'dataset_hand_recog/circle'\n",
    "free_dir = 'dataset_hand_recog/free'\n",
    "blocked_dir = 'dataset_hand_recog/blocked'\n",
    "\n",
    "\n",
    "# if the directories already exist they won't be created again\n",
    "try:\n",
    "    os.makedirs(go_dir)\n",
    "    os.makedirs(stop_dir)\n",
    "    os.makedirs(left_dir)\n",
    "    os.makedirs(right_dir)\n",
    "    os.makedirs(circle_dir)\n",
    "    os.makedirs(free_dir)\n",
    "    os.makedirs(blocked_dir)\n",
    "except FileExistsError:\n",
    "    print('Directories not created because they already exist')"
   ]
  },
  {
   "cell_type": "markdown",
   "metadata": {},
   "source": [
    "Now we will create some widgets for buttons that will allow us to grab pictures from the camera"
   ]
  },
  {
   "cell_type": "code",
   "execution_count": 3,
   "metadata": {},
   "outputs": [
    {
     "data": {
      "application/vnd.jupyter.widget-view+json": {
       "model_id": "863e8ad919ba4f75a44f055412e62d84",
       "version_major": 2,
       "version_minor": 0
      },
      "text/plain": [
       "HBox(children=(Button(button_style='success', description='add go', layout=Layout(height='100px', width='100px…"
      ]
     },
     "metadata": {},
     "output_type": "display_data"
    },
    {
     "data": {
      "application/vnd.jupyter.widget-view+json": {
       "model_id": "a2ebc3879aa3449fa262d90f7315f9f7",
       "version_major": 2,
       "version_minor": 0
      },
      "text/plain": [
       "HBox(children=(IntText(value=134, layout=Layout(height='100px', width='100px')), IntText(value=110, layout=Lay…"
      ]
     },
     "metadata": {},
     "output_type": "display_data"
    }
   ],
   "source": [
    "# Let's start with default button layout:\n",
    "button_layout = widgets.Layout(width='100px', height='100px')\n",
    "# Now we need to create proper buttons:\n",
    "# available button_style=\n",
    "# success: green\n",
    "# info: blue\n",
    "# warning: yellow\n",
    "# danger: blue\n",
    "# more details in ipywidgets.widgets library\n",
    "go_button = widgets.Button(description='add go', button_style='success', layout=button_layout)\n",
    "stop_button = widgets.Button(description='add stop', button_style='danger', layout=button_layout)\n",
    "left_button = widgets.Button(description='add left', button_style='info', layout=button_layout)\n",
    "right_button = widgets.Button(description='add right', button_style='info', layout=button_layout)\n",
    "circle_button = widgets.Button(description='add circle', button_style='warning', layout=button_layout)\n",
    "free_button = widgets.Button(description='add free', button_style='success', layout=button_layout)\n",
    "blocked_button = widgets.Button(description='add blocked', button_style='danger', layout=button_layout)\n",
    "\n",
    "# Time for the counters - they will show us how many photos of each category are already in the folders:\n",
    "go_count = widgets.IntText(layout=button_layout, value=len(os.listdir(go_dir)))\n",
    "stop_count = widgets.IntText(layout=button_layout, value=len(os.listdir(stop_dir)))\n",
    "left_count = widgets.IntText(layout=button_layout, value=len(os.listdir(left_dir)))\n",
    "right_count = widgets.IntText(layout=button_layout, value=len(os.listdir(right_dir)))\n",
    "circle_count = widgets.IntText(layout=button_layout, value=len(os.listdir(circle_dir)))\n",
    "free_count = widgets.IntText(layout=button_layout, value=len(os.listdir(free_dir)))\n",
    "blocked_count = widgets.IntText(layout=button_layout, value=len(os.listdir(blocked_dir)))\n",
    "\n",
    "# Let's display the buttons on the screen:\n",
    "display(widgets.HBox([go_button, stop_button, left_button, right_button, circle_button, free_button, blocked_button]))\n",
    "display(widgets.HBox([go_count, stop_count, left_count, right_count, circle_count, free_count, blocked_count]))"
   ]
  },
  {
   "cell_type": "markdown",
   "metadata": {},
   "source": [
    "Now we will create proper functions to save the frames from the camera to the proper folder:"
   ]
  },
  {
   "cell_type": "code",
   "execution_count": 4,
   "metadata": {},
   "outputs": [],
   "source": [
    "from uuid import uuid1 # library ___\n",
    "\n",
    "# function to save the picture in a given folder\n",
    "def save_snapshot(directory):\n",
    "    image_path = os.path.join(directory, str(uuid1()) + '.jpg')\n",
    "    with open(image_path, 'wb') as f:\n",
    "        f.write(image.value)\n",
    "\n",
    "# Set of functions to tell the save_snapshot function where to save it and update counter value of given type\n",
    "def save_go():\n",
    "    global go_dir, go_count\n",
    "    save_snapshot(go_dir)\n",
    "    go_count.value = len(os.listdir(go_dir))\n",
    "    \n",
    "def save_stop():\n",
    "    global stop_dir, stop_count\n",
    "    save_snapshot(stop_dir)\n",
    "    stop_count.value = len(os.listdir(stop_dir))\n",
    "    \n",
    "def save_left():\n",
    "    global left_dir, left_count\n",
    "    save_snapshot(left_dir)\n",
    "    left_count.value = len(os.listdir(left_dir))\n",
    "    \n",
    "def save_right():\n",
    "    global right_dir, right_count\n",
    "    save_snapshot(right_dir)\n",
    "    right_count.value = len(os.listdir(right_dir))\n",
    "    \n",
    "def save_circle():\n",
    "    global circle_dir, circle_count\n",
    "    save_snapshot(circle_dir)\n",
    "    circle_count.value = len(os.listdir(circle_dir))\n",
    "\n",
    "def save_free():\n",
    "    global free_dir, free_count\n",
    "    save_snapshot(free_dir)\n",
    "    free_count.value = len(os.listdir(free_dir))\n",
    "    \n",
    "def save_blocked():\n",
    "    global blocked_dir, blocked_count\n",
    "    save_snapshot(blocked_dir)\n",
    "    blocked_count.value = len(os.listdir(blocked_dir))\n",
    "\n",
    "# Let's create \"callbacks\" - what will happen after pressing the button\n",
    "# We use \"lambda\" to ignore some extra parametres from on_click that we don't need\n",
    "go_button.on_click(lambda x: save_go())\n",
    "stop_button.on_click(lambda x: save_stop())\n",
    "left_button.on_click(lambda x: save_left())\n",
    "right_button.on_click(lambda x: save_right())\n",
    "circle_button.on_click(lambda x: save_circle())\n",
    "free_button.on_click(lambda x: save_free())\n",
    "blocked_button.on_click(lambda x: save_blocked())"
   ]
  },
  {
   "cell_type": "markdown",
   "metadata": {},
   "source": [
    "The snippet of code below will display created widgets in one place as it is more convinient to see both camera and buttons in one place.\n",
    "(In case of modification of the buttons you can copy and paste proper lines from the code above)"
   ]
  },
  {
   "cell_type": "code",
   "execution_count": 5,
   "metadata": {},
   "outputs": [
    {
     "data": {
      "application/vnd.jupyter.widget-view+json": {
       "model_id": "5afa8cb4027e49ebad4691008121516b",
       "version_major": 2,
       "version_minor": 0
      },
      "text/plain": [
       "Image(value=b'\\xff\\xd8\\xff\\xe0\\x00\\x10JFIF\\x00\\x01\\x01\\x00\\x00\\x01\\x00\\x01\\x00\\x00\\xff\\xdb\\x00C\\x00\\x02\\x01\\x0…"
      ]
     },
     "metadata": {},
     "output_type": "display_data"
    },
    {
     "data": {
      "application/vnd.jupyter.widget-view+json": {
       "model_id": "fbeca1bce72f4e5a9f1b8fc416f07836",
       "version_major": 2,
       "version_minor": 0
      },
      "text/plain": [
       "HBox(children=(Button(button_style='success', description='add go', layout=Layout(height='100px', width='100px…"
      ]
     },
     "metadata": {},
     "output_type": "display_data"
    },
    {
     "data": {
      "application/vnd.jupyter.widget-view+json": {
       "model_id": "e3bb64fc66f346c99c7f302fdad4fabc",
       "version_major": 2,
       "version_minor": 0
      },
      "text/plain": [
       "HBox(children=(IntText(value=134, layout=Layout(height='100px', width='100px')), IntText(value=110, layout=Lay…"
      ]
     },
     "metadata": {},
     "output_type": "display_data"
    }
   ],
   "source": [
    "display(image)\n",
    "display(widgets.HBox([go_button, stop_button, left_button, right_button, circle_button, free_button, blocked_button]))\n",
    "display(widgets.HBox([go_count, stop_count, left_count, right_count, circle_count, free_count, blocked_count]))"
   ]
  },
  {
   "cell_type": "markdown",
   "metadata": {},
   "source": [
    "After the work is done we need to stop the camera properly to free the resources and make it available for further code."
   ]
  },
  {
   "cell_type": "code",
   "execution_count": 6,
   "metadata": {},
   "outputs": [],
   "source": [
    "camera.stop()"
   ]
  },
  {
   "cell_type": "markdown",
   "metadata": {},
   "source": [
    "If you want to train a model on another machine you can compress created photos and right click .zip file to download it onto your PC. (It can work as a copy of your work as well)"
   ]
  },
  {
   "cell_type": "code",
   "execution_count": 1,
   "metadata": {},
   "outputs": [],
   "source": [
    "!zip -r -q dataset.zip dataset_hand_recog"
   ]
  },
  {
   "cell_type": "markdown",
   "metadata": {},
   "source": [
    "Now let's continue in the next notebook - train_model"
   ]
  }
 ],
 "metadata": {
  "kernelspec": {
   "display_name": "Python 3",
   "language": "python",
   "name": "python3"
  },
  "language_info": {
   "codemirror_mode": {
    "name": "ipython",
    "version": 3
   },
   "file_extension": ".py",
   "mimetype": "text/x-python",
   "name": "python",
   "nbconvert_exporter": "python",
   "pygments_lexer": "ipython3",
   "version": "3.6.9"
  }
 },
 "nbformat": 4,
 "nbformat_minor": 4
}
