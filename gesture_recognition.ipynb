{
 "cells": [
  {
   "cell_type": "markdown",
   "metadata": {},
   "source": [
    "# Hand recognition - live demo\n",
    "It's time to present you the effects of model training. So let's begin..."
   ]
  },
  {
   "cell_type": "code",
   "execution_count": 1,
   "metadata": {},
   "outputs": [
    {
     "data": {
      "application/vnd.jupyter.widget-view+json": {
       "model_id": "8b2470d2d7e24ff492cc592d2529ae06",
       "version_major": 2,
       "version_minor": 0
      },
      "text/plain": [
       "HBox(children=(Image(value=b'\\xff\\xd8\\xff\\xe0\\x00\\x10JFIF\\x00\\x01\\x01\\x00\\x00\\x01\\x00\\x01\\x00\\x00\\xff\\xdb\\x00C…"
      ]
     },
     "metadata": {},
     "output_type": "display_data"
    },
    {
     "name": "stdout",
     "output_type": "stream",
     "text": [
      "CPU times: user 17 s, sys: 7.64 s, total: 24.6 s\n",
      "Wall time: 37.8 s\n"
     ]
    }
   ],
   "source": [
    "# Import PyTorch libraries \n",
    "import torch\n",
    "import torchvision\n",
    "\n",
    "# Load best_model file created in the train_model notebook\n",
    "model = torchvision.models.alexnet(pretrained=False)\n",
    "model.classifier[6] = torch.nn.Linear(model.classifier[6].in_features, 7)\n",
    "model.load_state_dict(torch.load('best_model.pth'))\n",
    "device = torch.device('cuda')\n",
    "model = model.to(device)\n",
    "\n",
    "# Time to preprocess the data\n",
    "# Convert from BGR to RGB\n",
    "# Normalize the data (our camera provides values in [0, 255] range and training loaded images in [0, 1])\n",
    "# Transfer the data from CPU memory to GPU memory\n",
    "# Add a batch dimension\n",
    "\n",
    "import cv2\n",
    "import numpy as np\n",
    "\n",
    "mean = 255.0 * np.array([0.485, 0.456, 0.406])\n",
    "stdev = 255.0 * np.array([0.229, 0.224, 0.225])\n",
    "\n",
    "normalize = torchvision.transforms.Normalize(mean, stdev)\n",
    "\n",
    "def preprocess(camera_value):\n",
    "    global device, normalize\n",
    "    x = camera_value\n",
    "    x = cv2.cvtColor(x, cv2.COLOR_BGR2RGB)\n",
    "    x = x.transpose((2, 0, 1))\n",
    "    x = torch.from_numpy(x).float()\n",
    "    x = normalize(x)\n",
    "    x = x.to(device)\n",
    "    x = x[None, ...]\n",
    "    return x\n",
    "\n",
    "# If you think you already saw these lines - that's great! \n",
    "# We used them while creating widgets in data_collection notebook\n",
    "import traitlets\n",
    "from IPython.display import display\n",
    "import ipywidgets.widgets as widgets\n",
    "from jetbot import Camera, bgr8_to_jpeg\n",
    "\n",
    "camera = Camera.instance(width=224, height=224)\n",
    "image = widgets.Image(format='jpeg', width=224, height=224)\n",
    "go_slider = widgets.FloatSlider(description='go', min=0.0, max=1.0, orientation='vertical')\n",
    "stop_slider = widgets.FloatSlider(description='stop', min=0.0, max=1.0, orientation='vertical')\n",
    "left_slider = widgets.FloatSlider(description='left', min=0.0, max=1.0, orientation='vertical')\n",
    "right_slider = widgets.FloatSlider(description='right', min=0.0, max=1.0, orientation='vertical')\n",
    "circle_slider = widgets.FloatSlider(description='circle', min=0.0, max=1.0, orientation='vertical')\n",
    "free_slider = widgets.FloatSlider(description='free', min=0.0, max=1.0, orientation='vertical')\n",
    "blocked_slider = widgets.FloatSlider(description='blocked', min=0.0, max=1.0, orientation='vertical')\n",
    "camera_link = traitlets.dlink((camera, 'value'), (image, 'value'), transform=bgr8_to_jpeg)\n",
    "\n",
    "display(widgets.HBox([image, go_slider, stop_slider, left_slider, right_slider, circle_slider, free_slider, blocked_slider]))\n",
    "\n",
    "# Let's import robot library to control the motors:\n",
    "from jetbot import Robot\n",
    "\n",
    "robot = Robot()\n",
    "\n",
    "# The whole code below will update the status of the robot after each camera update\n",
    "# It will preprocess the images, put them into network and get the results\n",
    "# According to them proper movement will be executed\n",
    "\n",
    "import torch.nn.functional as F\n",
    "import time\n",
    "\n",
    "acummullator = 0 # variable to control how many camera \n",
    "# frames in a row should contain the same network recognition\n",
    "max_index = 0 # defines the index of the output (eg. circle = 0, free = 1)\n",
    "set_go = 0\n",
    "def update(change):\n",
    "    global blocked_slider, robot, go_slider, stop_slider, left_slider, right_slider, circle_slider, free_slider, acummullator, max_index, set_go\n",
    "    x = change['new'] \n",
    "    x = preprocess(x)\n",
    "    y = model(x)\n",
    "    #print(y)\n",
    "    # we apply the `softmax` function to normalize the output vector so it sums to 1 (which makes it a probability distribution)\n",
    "    y = F.softmax(y, dim=1)\n",
    "    speedvalues = [0.1, 0.2, 0.3, 0.4]\n",
    "    prob_blocked = float(y.flatten()[0]) #the numbers in y.flatten[_] represent the output number, they're sorted alfabetically by folder name\n",
    "    prob_go = float(y.flatten()[3])\n",
    "    prob_stop = float(y.flatten()[6])\n",
    "    prob_left = float(y.flatten()[4])\n",
    "    prob_right = float(y.flatten()[5])\n",
    "    prob_circle = float(y.flatten()[1])\n",
    "    prob_free = float(y.flatten()[2]) \n",
    "    blocked_slider.value = prob_blocked\n",
    "    go_slider.value = prob_go\n",
    "    stop_slider.value = prob_stop\n",
    "    left_slider.value = prob_left\n",
    "    right_slider.value = prob_right\n",
    "    circle_slider.value = prob_circle\n",
    "    free_slider.value = prob_free\n",
    "    temp_list = [prob_go, prob_stop, prob_left, prob_right, prob_circle, prob_blocked, prob_free]\n",
    "    max_value = max(temp_list)\n",
    "    max_index_tmp = temp_list.index(max_value)\n",
    "    \n",
    "    # robot logic of movement\n",
    "    if max_index_tmp != max_index:\n",
    "        acummullator = 1\n",
    "    else:\n",
    "        acummullator += 1\n",
    "    max_index = max_index_tmp\n",
    "    if acummullator > 5:\n",
    "        if max_index == 0:      #go_prob\n",
    "            robot.forward(0.4)\n",
    "            set_go = 1\n",
    "        elif max_index == 1:    #stop_prob\n",
    "            robot.stop()\n",
    "            set_go = 0\n",
    "        elif max_index == 2:    #left_prob\n",
    "            robot.left(0.4)\n",
    "        elif max_index == 3:    #prob_right\n",
    "            robot.right(0.4)\n",
    "        elif max_index == 4:    #circle prob\n",
    "            robot.right(0.5)\n",
    "            time.sleep(0.2)\n",
    "        elif max_index == 5:    #blocked prob\n",
    "            robot.left(0.4)\n",
    "        elif max_index == 6:    #prob_free\n",
    "            if set_go == 1:\n",
    "                robot.forward(0.4)\n",
    "            elif set_go == 0:\n",
    "                robot.stop()\n",
    "\n",
    "    time.sleep(0.01) # we don't want the robot to clog up the robots calculation capabilities\n",
    "        \n",
    "update({'new': camera.value})  # we call the function once to intialize   "
   ]
  },
  {
   "cell_type": "markdown",
   "metadata": {},
   "source": [
    "The function below will run the robot - **it will start moving!** Everytime we'll get the update frame from camera the function ``update`` will execute"
   ]
  },
  {
   "cell_type": "code",
   "execution_count": 3,
   "metadata": {},
   "outputs": [],
   "source": [
    "camera.observe(update, names='value')  # this attaches the 'update' function to the 'value' traitlet of our camera"
   ]
  },
  {
   "cell_type": "markdown",
   "metadata": {},
   "source": [
    "In the snippet below we can stop the execution of the update function everytime we get new frame of the camera, as well as stop the robot."
   ]
  },
  {
   "cell_type": "code",
   "execution_count": 4,
   "metadata": {},
   "outputs": [],
   "source": [
    "import time\n",
    "\n",
    "camera.unobserve(update, names='value')\n",
    "\n",
    "time.sleep(0.1)  # add a small sleep to make sure frames have finished processing\n",
    "\n",
    "robot.stop()"
   ]
  },
  {
   "cell_type": "markdown",
   "metadata": {},
   "source": [
    "Remember to stop the camera if you want to run the whole code again, otherwise you'll have to reboot the jetbot after stopping the kernel."
   ]
  },
  {
   "cell_type": "code",
   "execution_count": 5,
   "metadata": {},
   "outputs": [],
   "source": [
    "camera.stop()"
   ]
  },
  {
   "cell_type": "markdown",
   "metadata": {},
   "source": [
    "and here we have camera unlink"
   ]
  },
  {
   "cell_type": "code",
   "execution_count": null,
   "metadata": {},
   "outputs": [],
   "source": [
    "camera_link.unlink()  # don't stream to browser (will still run camera)"
   ]
  }
 ],
 "metadata": {
  "kernelspec": {
   "display_name": "Python 3",
   "language": "python",
   "name": "python3"
  },
  "language_info": {
   "codemirror_mode": {
    "name": "ipython",
    "version": 3
   },
   "file_extension": ".py",
   "mimetype": "text/x-python",
   "name": "python",
   "nbconvert_exporter": "python",
   "pygments_lexer": "ipython3",
   "version": "3.6.9"
  }
 },
 "nbformat": 4,
 "nbformat_minor": 4
}
